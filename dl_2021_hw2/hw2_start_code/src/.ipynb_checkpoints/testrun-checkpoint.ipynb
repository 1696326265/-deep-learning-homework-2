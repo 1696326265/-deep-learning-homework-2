{
 "cells": [
  {
   "cell_type": "code",
   "execution_count": 1,
   "metadata": {},
   "outputs": [],
   "source": [
    "import torch\n",
    "import torch.nn as nn\n",
    "import torch.optim as optim\n",
    "import data\n",
    "import models\n",
    "import os\n",
    "import sys\n",
    "import time\n",
    "import numpy as np\n",
    "import collections\n",
    "\n"
   ]
  },
  {
   "cell_type": "code",
   "execution_count": null,
   "metadata": {},
   "outputs": [],
   "source": []
  },
  {
   "cell_type": "code",
   "execution_count": 2,
   "metadata": {},
   "outputs": [],
   "source": [
    "argmap = { 'model':'A' ,\n",
    "          'train_path':'os.path.join(data_dir, \\'1-Large-Scale\\', \\'train\\')' ,\n",
    "          'valid_path':'os.path.join(data_dir,\\'test\\')' ,\n",
    "          'trainlim':10000000 ,\n",
    "          'validlim':10000000 ,\n",
    "          'batch_size':1 ,\n",
    "          'lr':0.001 ,\n",
    "          'epochs':1 , \n",
    "          'who':'Simply_test' , \n",
    "          'rounds_per_train':1 }"
   ]
  },
  {
   "cell_type": "code",
   "execution_count": 3,
   "metadata": {},
   "outputs": [],
   "source": [
    "data_dir = \"../hw2_dataset/\" ## You need to specify the data_dir first\n",
    "inupt_size = 224\n",
    "batch_size = argmap['batch_size']\n",
    "train_loader, valid_loader = data.load_data(data_dir=data_dir,input_size=inupt_size, batch_size=batch_size, argmap=argmap)"
   ]
  },
  {
   "cell_type": "code",
   "execution_count": null,
   "metadata": {},
   "outputs": [],
   "source": []
  },
  {
   "cell_type": "code",
   "execution_count": null,
   "metadata": {},
   "outputs": [],
   "source": []
  },
  {
   "cell_type": "code",
   "execution_count": 4,
   "metadata": {},
   "outputs": [],
   "source": [
    "model = models.model_A(num_classes=10)\n",
    "device = torch.device(\"cuda:0\")\n",
    "cpudevice = torch.device(\"cpu\")\n",
    "model = model.to(device)"
   ]
  },
  {
   "cell_type": "code",
   "execution_count": 5,
   "metadata": {},
   "outputs": [
    {
     "data": {
      "text/plain": [
       "<All keys matched successfully>"
      ]
     },
     "execution_count": 5,
     "metadata": {},
     "output_type": "execute_result"
    }
   ],
   "source": [
    "model.load_state_dict(torch.load(\"Task1_modelResnet_best_model.pkl\"))"
   ]
  },
  {
   "cell_type": "code",
   "execution_count": 6,
   "metadata": {},
   "outputs": [
    {
     "name": "stdout",
     "output_type": "stream",
     "text": [
      "tensor([[  9.1465, -12.3515,  -0.4605,   4.6200,   0.2541,   0.8570,   6.7481,\n",
      "          -6.6213,   2.4624,  -2.1192]], grad_fn=<CopyBackwards>) tensor([0])\n",
      "tensor([[ 15.4599,  -6.6121,  -7.9644,   7.2201,  -2.5369,   0.6384,   2.1112,\n",
      "         -10.8432,   6.1270,  -2.0937]], grad_fn=<CopyBackwards>) tensor([0])\n",
      "tensor([[16.0307, -5.9431, -6.7870,  5.6802,  0.0751, -3.7202,  4.4909, -9.3831,\n",
      "          4.0723, -3.3900]], grad_fn=<CopyBackwards>) tensor([0])\n",
      "tensor([[13.3622, -8.0656, -2.8886,  6.6507, -2.0594,  0.1965,  6.9496, -9.4187,\n",
      "          4.8150, -7.9270]], grad_fn=<CopyBackwards>) tensor([0])\n",
      "tensor([[  7.2209,   5.0013, -10.1158,   2.5900,  -4.9080,   4.9994,   0.3254,\n",
      "          -9.5209,   4.6201,   0.6237]], grad_fn=<CopyBackwards>) tensor([0])\n",
      "tensor([[ 11.6937,  -5.7013,  -6.6612,   4.3830,  -2.9468,   4.3969,   4.6455,\n",
      "         -10.3315,   3.9367,  -2.0863]], grad_fn=<CopyBackwards>) tensor([0])\n",
      "tensor([[  8.9971,  -9.2528, -10.4547,   5.6246,  -2.0208,   4.2400,   4.5110,\n",
      "          -5.9411,   5.7362,  -0.0158]], grad_fn=<CopyBackwards>) tensor([0])\n",
      "tensor([[ 9.6285, -7.0107, -6.7008,  4.1191, -2.1247,  1.0865,  4.8275, -6.1595,\n",
      "          3.8257, -0.5276]], grad_fn=<CopyBackwards>) tensor([0])\n",
      "tensor([[11.5277, -2.7282, -3.2964,  4.5124, -3.6856,  0.5749,  4.1022, -9.8159,\n",
      "          2.8527, -2.9155]], grad_fn=<CopyBackwards>) tensor([0])\n",
      "tensor([[10.1323, -4.8291, -7.4100,  5.2162,  0.6378, -4.9408,  1.9958, -5.0068,\n",
      "          8.1951, -3.0182]], grad_fn=<CopyBackwards>) tensor([0])\n"
     ]
    }
   ],
   "source": [
    "# def valid(model, valid_loader,criterion):\n",
    "#     model.train(False)\n",
    "#     total_loss = 0.0\n",
    "#     total_correct = 0\n",
    "#     for inputs, labels in valid_loader:\n",
    "#         inputs = inputs.to(device)\n",
    "#         labels = labels.to(device)\n",
    "#         outputs = model(inputs)\n",
    "#         loss = criterion(outputs, labels)\n",
    "#         _, predictions = torch.max(outputs, 1)\n",
    "#         total_loss += loss.item() * inputs.size(0)\n",
    "#         total_correct += torch.sum(predictions == labels.data)\n",
    "\n",
    "#         print(total_correct)\n",
    "\n",
    "ddl = 10 \n",
    "model.train(False)\n",
    "for inputs, labels in valid_loader:\n",
    "    inputs = inputs.to(device)\n",
    "    outputs = model(inputs)\n",
    "    outputs = outputs.to(cpudevice)\n",
    "    print(outputs,labels)\n",
    "    ddl -= 1\n",
    "    if ddl<=0: break"
   ]
  },
  {
   "cell_type": "code",
   "execution_count": null,
   "metadata": {},
   "outputs": [],
   "source": []
  },
  {
   "cell_type": "code",
   "execution_count": 8,
   "metadata": {},
   "outputs": [],
   "source": [
    "# class IntermediateLayerGetter(nn.ModuleDict):\n",
    "#     \"\"\" get the output of certain layers \"\"\"\n",
    "#     def __init__(self, model, return_layers):\n",
    "#         # 判断传入的return_layers是否存在于model中\n",
    "#         if not set(return_layers).issubset([name for name, _ in model.named_children()]):\n",
    "#             raise ValueError(\"return_layers are not present in model\")\n",
    "\n",
    "#         orig_return_layers = return_layers\n",
    "#         return_layers = {k: v for k, v in return_layers.items()}\t# 构造dict\n",
    "#         layers = collections.OrderedDict()\n",
    "#         # 将要从model中获取信息的最后一层之前的模块全部复制下来\n",
    "#         for name, module in model.named_children():\n",
    "#             layers[name] = module\n",
    "#             if name in return_layers:\n",
    "#                 del return_layers[name]\n",
    "#             if not return_layers:\n",
    "#                 break\n",
    "\n",
    "#         super(IntermediateLayerGetter, self).__init__(layers) # 将所需的网络层通过继承的方式保存下来\n",
    "#         self.return_layers = orig_return_layers\n",
    "\n",
    "#     def forward(self, x):\n",
    "#         out = collections.OrderedDict()\n",
    "#         # 将所需的值以k,v的形式保存到out中\n",
    "#         for name, module in self.named_children():\n",
    "#             x = module(x)\n",
    "#             if name in self.return_layers:\n",
    "#                 out_name = self.return_layers[name]\n",
    "#                 out[out_name] = x\n",
    "#         return out\n"
   ]
  },
  {
   "cell_type": "code",
   "execution_count": 7,
   "metadata": {},
   "outputs": [
    {
     "name": "stdout",
     "output_type": "stream",
     "text": [
      "conv1\n",
      "bn1\n",
      "relu\n",
      "maxpool\n",
      "layer1\n",
      "layer2\n",
      "layer3\n",
      "layer4\n",
      "avgpool\n",
      "fc\n"
     ]
    }
   ],
   "source": [
    "for name, module in model.named_children():\n",
    "    print(name)"
   ]
  },
  {
   "cell_type": "code",
   "execution_count": 8,
   "metadata": {},
   "outputs": [],
   "source": [
    "# model.conv1, model.bn1"
   ]
  },
  {
   "cell_type": "code",
   "execution_count": 13,
   "metadata": {},
   "outputs": [],
   "source": [
    "def gao(x):\n",
    "    model.train(False)\n",
    "    x = x.to(device)\n",
    "    x = model.conv1(x)\n",
    "    x = model.bn1(x)\n",
    "    x = model.relu(x)\n",
    "    x = model.maxpool(x)\n",
    "    x = model.layer1(x)\n",
    "    x = model.layer2(x)\n",
    "    x = model.layer3(x)\n",
    "    x = model.layer4(x)\n",
    "    x = model.avgpool(x)\n",
    "    x = x.to(cpudevice)\n",
    "    return x.view(-1)"
   ]
  },
  {
   "cell_type": "code",
   "execution_count": null,
   "metadata": {},
   "outputs": [],
   "source": []
  },
  {
   "cell_type": "code",
   "execution_count": null,
   "metadata": {},
   "outputs": [],
   "source": []
  },
  {
   "cell_type": "code",
   "execution_count": 14,
   "metadata": {},
   "outputs": [
    {
     "name": "stdout",
     "output_type": "stream",
     "text": [
      "torch.Size([2048]) tensor([0.6770, 0.1844, 0.2380,  ..., 0.8275, 0.8276, 0.6211],\n",
      "       grad_fn=<ViewBackward>)\n"
     ]
    }
   ],
   "source": [
    "if 1:\n",
    "    x = torch.randn(1,3,224,224)\n",
    "#     x = x.to(device)\n",
    "#     out = backbone(x)\n",
    "#     ooo = out['feature_1'].to(cpudevice)\n",
    "#     print(ooo.detach().view(-1).numpy())\n",
    "    out = gao(x)\n",
    "    print(out.shape,out.view(-1))"
   ]
  },
  {
   "cell_type": "code",
   "execution_count": 17,
   "metadata": {},
   "outputs": [
    {
     "name": "stdout",
     "output_type": "stream",
     "text": [
      "0 2021-04-05 00:00:58\n",
      "1000 2021-04-05 00:01:13\n",
      "2000 2021-04-05 00:01:24\n",
      "3000 2021-04-05 00:01:33\n",
      "4000 2021-04-05 00:01:45\n",
      "5000 2021-04-05 00:01:55\n",
      "6000 2021-04-05 00:02:04\n",
      "7000 2021-04-05 00:02:14\n",
      "8000 2021-04-05 00:02:22\n",
      "9000 2021-04-05 00:02:35\n",
      "10000 2021-04-05 00:02:50\n",
      "11000 2021-04-05 00:03:05\n",
      "12000 2021-04-05 00:03:20\n",
      "13000 2021-04-05 00:03:31\n",
      "14000 2021-04-05 00:03:42\n",
      "15000 2021-04-05 00:03:51\n",
      "16000 2021-04-05 00:04:00\n",
      "17000 2021-04-05 00:04:08\n",
      "18000 2021-04-05 00:04:18\n",
      "19000 2021-04-05 00:04:28\n",
      "20000 2021-04-05 00:04:38\n",
      "21000 2021-04-05 00:04:50\n"
     ]
    }
   ],
   "source": [
    "model.train(False)\n",
    "import time\n",
    "tongX = []\n",
    "tongY = []\n",
    "cnt = 0\n",
    "import numpy as np\n",
    "for inputs, labels in train_loader:\n",
    "    out = gao(inputs)\n",
    "    fuck = out.clone().detach().numpy().tolist().copy()\n",
    "#     print(fuck[:5])\n",
    "    tongX.append(fuck)\n",
    "    tongY.append(int(labels))\n",
    "    if (cnt%1000<argmap['batch_size']):\n",
    "        print(cnt,time.strftime('%Y-%m-%d %H:%M:%S',time.localtime(time.time())))\n",
    "    cnt += int(argmap['batch_size'])\n",
    "#     if (cnt>10): break"
   ]
  },
  {
   "cell_type": "code",
   "execution_count": 20,
   "metadata": {},
   "outputs": [
    {
     "data": {
      "text/plain": [
       "(21600, 2048, 21600)"
      ]
     },
     "execution_count": 20,
     "metadata": {},
     "output_type": "execute_result"
    }
   ],
   "source": [
    "len(tongX),len(tongX[0]), len(tongY)"
   ]
  },
  {
   "cell_type": "code",
   "execution_count": null,
   "metadata": {},
   "outputs": [],
   "source": []
  },
  {
   "cell_type": "code",
   "execution_count": 342,
   "metadata": {},
   "outputs": [],
   "source": [
    "# for i in range(20):\n",
    "#     print(tongX[0][i],tongX[1][i])"
   ]
  },
  {
   "cell_type": "code",
   "execution_count": 21,
   "metadata": {},
   "outputs": [
    {
     "name": "stdout",
     "output_type": "stream",
     "text": [
      "26.811972808351786 12.195374785278585\n",
      "34.29503032776021 21.806257007035253\n",
      "33.968756076568 21.73169634266664\n",
      "32.332407494409686 20.169831816602173\n",
      "31.748042799656282 19.786110597866696\n"
     ]
    }
   ],
   "source": [
    "import random\n",
    "s1 = 0\n",
    "q1 = 0\n",
    "s0 = 0\n",
    "q0 = 0\n",
    "N = 100\n",
    "for i in range(N):\n",
    "    for j in range(i+1,N):\n",
    "        d=0.\n",
    "        for k in range(len(tongX[i])):\n",
    "            d+=(tongX[i][k]-tongX[j][k])**2\n",
    "        d=d**0.5\n",
    "        if tongY[i]!=tongY[j]:\n",
    "            s1 += d\n",
    "            q1 += 1\n",
    "        else:\n",
    "            s0 += d\n",
    "            q0 += 1\n",
    "    if i%20==0:\n",
    "        print(s1/q1, s0/q0)"
   ]
  },
  {
   "cell_type": "code",
   "execution_count": null,
   "metadata": {},
   "outputs": [],
   "source": []
  },
  {
   "cell_type": "code",
   "execution_count": null,
   "metadata": {},
   "outputs": [],
   "source": []
  },
  {
   "cell_type": "code",
   "execution_count": 22,
   "metadata": {},
   "outputs": [],
   "source": [
    "from sklearn.manifold import TSNE\n",
    "tsne = TSNE(learning_rate=200,perplexity=100)"
   ]
  },
  {
   "cell_type": "code",
   "execution_count": null,
   "metadata": {
    "scrolled": true
   },
   "outputs": [],
   "source": [
    "tongXemb = tsne.fit_transform(tongX.copy())"
   ]
  },
  {
   "cell_type": "code",
   "execution_count": null,
   "metadata": {},
   "outputs": [],
   "source": []
  },
  {
   "cell_type": "code",
   "execution_count": null,
   "metadata": {},
   "outputs": [],
   "source": [
    "# colors = ['#00CED1','#DC143C']\n",
    "# import matplotlib.pyplot as plt\n",
    "# plt.scatter(2, 4, c=colors[0])\n",
    "# plt.scatter(4, 8, c=colors[1])\n",
    "# plt.show()\n",
    "colors = ['#FAFA00','#CCFF00','#99CCFF','#CCDD33','#FF9966',\n",
    "          '#FF33FF','#000099','#FF3333','#33FFFF','#990033']\n",
    "import matplotlib.pyplot as plt\n",
    "for i in range(len(tongXemb)):\n",
    "    plt.scatter(tongXemb[i,0],tongXemb[i,1],c=colors[tongY[i]])\n",
    "plt.show()"
   ]
  },
  {
   "cell_type": "code",
   "execution_count": null,
   "metadata": {},
   "outputs": [],
   "source": []
  },
  {
   "cell_type": "code",
   "execution_count": 337,
   "metadata": {},
   "outputs": [
    {
     "data": {
      "image/png": "[encoded data removed]",
      "text/plain": [
       "<Figure size 432x288 with 1 Axes>"
      ]
     },
     "metadata": {
      "needs_background": "light"
     },
     "output_type": "display_data"
    }
   ],
   "source": [
    "import random\n",
    "testX = []\n",
    "testY = []\n",
    "for c in range(4):\n",
    "    xx = random.random()*100\n",
    "    yy = random.random()*100\n",
    "    for i in range(50):\n",
    "        testX.append([xx+random.random()*5,yy+random.random()*5])\n",
    "        testY.append(c)\n",
    "tsne = TSNE(learning_rate=10,perplexity=10)\n",
    "testXemb = tsne.fit_transform(testX)\n",
    "# print(testXemb)\n",
    "colors = ['#FAFA00','#CCFF00','#99CCFF','#CCDD33','#FF9966',\n",
    "          '#FF33FF','#000099','#FF3333','#33FFFF','#990033']\n",
    "import matplotlib.pyplot as plt\n",
    "for i in range(len(testXemb)):\n",
    "    plt.scatter(testXemb[i,0],testXemb[i,1],c=colors[testY[i]])\n",
    "plt.show()"
   ]
  },
  {
   "cell_type": "code",
   "execution_count": null,
   "metadata": {},
   "outputs": [],
   "source": []
  }
 ],
 "metadata": {
  "kernelspec": {
   "display_name": "Python 3",
   "language": "python",
   "name": "python3"
  },
  "language_info": {
   "codemirror_mode": {
    "name": "ipython",
    "version": 3
   },
   "file_extension": ".py",
   "mimetype": "text/x-python",
   "name": "python",
   "nbconvert_exporter": "python",
   "pygments_lexer": "ipython3",
   "version": "3.7.6"
  }
 },
 "nbformat": 4,
 "nbformat_minor": 4
}
