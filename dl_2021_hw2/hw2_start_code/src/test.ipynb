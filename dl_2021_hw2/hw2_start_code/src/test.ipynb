{
 "cells": [
  {
   "cell_type": "code",
   "execution_count": 1,
   "metadata": {},
   "outputs": [],
   "source": [
    "import numpy as np"
   ]
  },
  {
   "cell_type": "code",
   "execution_count": 2,
   "metadata": {},
   "outputs": [
    {
     "data": {
      "text/plain": [
       "numpy.ndarray"
      ]
     },
     "execution_count": 2,
     "metadata": {},
     "output_type": "execute_result"
    }
   ],
   "source": [
    "a=np.array([])\n",
    "type(a)"
   ]
  },
  {
   "cell_type": "code",
   "execution_count": 6,
   "metadata": {},
   "outputs": [
    {
     "data": {
      "text/plain": [
       "array([], dtype=float64)"
      ]
     },
     "execution_count": 6,
     "metadata": {},
     "output_type": "execute_result"
    }
   ],
   "source": [
    "np.append(a,np.array([1]))\n",
    "a"
   ]
  },
  {
   "cell_type": "code",
   "execution_count": 7,
   "metadata": {},
   "outputs": [
    {
     "data": {
      "text/plain": [
       "array([1, 2, 5])"
      ]
     },
     "execution_count": 7,
     "metadata": {},
     "output_type": "execute_result"
    }
   ],
   "source": [
    "a=np.array([1,2,5])\n",
    "b=np.array([10,12,15])\n",
    "a                       #array([ 1,  2,  5, 10, 12, 15])"
   ]
  },
  {
   "cell_type": "code",
   "execution_count": 20,
   "metadata": {},
   "outputs": [
    {
     "data": {
      "text/plain": [
       "array([ 1,  2,  5, 10, 12, 15, 10, 12, 15, 10, 12, 15, 10, 12, 15, 10, 12,\n",
       "       15, 10, 12, 15, 10, 12, 15, 10, 12, 15, 10, 12, 15, 10, 12, 15, 10,\n",
       "       12, 15])"
      ]
     },
     "execution_count": 20,
     "metadata": {},
     "output_type": "execute_result"
    }
   ],
   "source": [
    "a=np.array(list(a)+list(b))\n",
    "a"
   ]
  },
  {
   "cell_type": "code",
   "execution_count": 53,
   "metadata": {},
   "outputs": [
    {
     "data": {
      "text/plain": [
       "[[[1, 11], [3, 33], [4, 44]], [[2, 22], [5, 55], [6, 66]]]"
      ]
     },
     "execution_count": 53,
     "metadata": {},
     "output_type": "execute_result"
    }
   ],
   "source": [
    "c=[[[1,11],[3,33],[4,44]],[[2,22],[5,55],[6,66]]]\n",
    "c"
   ]
  },
  {
   "cell_type": "code",
   "execution_count": 3,
   "metadata": {},
   "outputs": [
    {
     "data": {
      "text/plain": [
       "'00001'"
      ]
     },
     "execution_count": 3,
     "metadata": {},
     "output_type": "execute_result"
    }
   ],
   "source": [
    "\"{:05d}\".format(1)"
   ]
  },
  {
   "cell_type": "code",
   "execution_count": 55,
   "metadata": {},
   "outputs": [
    {
     "data": {
      "text/plain": [
       "[[[1, 11], [3, 33], [4, 44]], [[2, 22], [5, 55], [6, 66]]]"
      ]
     },
     "execution_count": 55,
     "metadata": {},
     "output_type": "execute_result"
    }
   ],
   "source": [
    "c"
   ]
  },
  {
   "cell_type": "code",
   "execution_count": 56,
   "metadata": {},
   "outputs": [],
   "source": [
    "np.save(\"test.npy\",np.array(c))"
   ]
  },
  {
   "cell_type": "code",
   "execution_count": 7,
   "metadata": {},
   "outputs": [
    {
     "data": {
      "text/plain": [
       "array([[547,   5,   1,   2,   2,  10,   2,   0,   2,   2],\n",
       "       [  0, 569,   0,   0,   0,   0,   1,   0,   0,   0],\n",
       "       [  6,   3, 554,   0,   1,  10,  13,   1,   2,   1],\n",
       "       [  4,   1,   3, 454,  24,   4,   5,   9,  18,   0],\n",
       "       [  0,  42,   0,   1, 454,   0,   3,  15,   1,   0],\n",
       "       [  4,  11,   2,   0,   0, 408,   3,   0,   1,   0],\n",
       "       [ 22,   2,  19,   4,   0,   7, 460,   2,   5,   0],\n",
       "       [  0,   0,   9,   0,   3,   0,   1, 564,   0,   0],\n",
       "       [  6,   3,   0,   2,   7,   5,   4,   0, 480,   0],\n",
       "       [  1,   5,   0,   0,   1,   2,   0,   0,  10, 575]])"
      ]
     },
     "execution_count": 7,
     "metadata": {},
     "output_type": "execute_result"
    }
   ],
   "source": [
    "# tmp=np.load(\"Task5_modelMyhighway_Conf_Mat.npy\")\n",
    "tmp=np.load(\"Task5_modelResnet_Conf_Mat.npy\")\n",
    "tmp[-1]"
   ]
  },
  {
   "cell_type": "code",
   "execution_count": 61,
   "metadata": {},
   "outputs": [
    {
     "data": {
      "text/plain": [
       "array([[ 2, 22],\n",
       "       [ 5, 55],\n",
       "       [ 6, 66]])"
      ]
     },
     "execution_count": 61,
     "metadata": {},
     "output_type": "execute_result"
    }
   ],
   "source": [
    "tmp[1]"
   ]
  },
  {
   "cell_type": "code",
   "execution_count": 64,
   "metadata": {},
   "outputs": [
    {
     "data": {
      "text/plain": [
       "[[0, 0, 0, 0, 0, 0, 0, 0, 0, 0],\n",
       " [0, 0, 0, 0, 0, 0, 0, 0, 0, 0],\n",
       " [0, 0, 0, 0, 0, 0, 0, 0, 0, 0],\n",
       " [0, 0, 0, 0, 0, 0, 0, 0, 0, 0],\n",
       " [0, 0, 0, 0, 0, 0, 0, 0, 0, 0],\n",
       " [0, 0, 0, 0, 0, 0, 0, 0, 0, 0],\n",
       " [0, 0, 0, 0, 0, 0, 0, 0, 0, 0],\n",
       " [0, 0, 0, 0, 0, 0, 0, 0, 0, 0],\n",
       " [0, 0, 0, 0, 0, 0, 0, 0, 0, 0],\n",
       " [0, 0, 0, 0, 0, 0, 0, 0, 0, 0]]"
      ]
     },
     "execution_count": 64,
     "metadata": {},
     "output_type": "execute_result"
    }
   ],
   "source": [
    "[[0]*10]*10"
   ]
  },
  {
   "cell_type": "code",
   "execution_count": 84,
   "metadata": {},
   "outputs": [
    {
     "data": {
      "text/plain": [
       "array([[[  0,   0,   2, ...,   0,   0,   0],\n",
       "        [  0,   0,   0, ...,   0,   0,   0],\n",
       "        [  0,   0,   0, ...,   0,   0,   0],\n",
       "        ...,\n",
       "        [  0,   0,   0, ...,   0,   0,   0],\n",
       "        [  0,   0,   0, ...,   0,   0,   0],\n",
       "        [  0,   0,   0, ...,   0,   0,   0]],\n",
       "\n",
       "       [[  0,   0,   2, ...,   1,   0,   0],\n",
       "        [  0,   0,   0, ...,   0,   0,   0],\n",
       "        [  0,   0,   0, ...,   0,   0,   0],\n",
       "        ...,\n",
       "        [  1,   0,   0, ...,   0,   0,   0],\n",
       "        [  0,   0,   0, ...,   0,   0,   0],\n",
       "        [  0,   0,   0, ...,   0,   0,   0]],\n",
       "\n",
       "       [[  6,   0,   2, ...,   5,   0,   0],\n",
       "        [  0,   0,   0, ...,   0,   0,   0],\n",
       "        [  1,   0,   0, ...,   0,   0,   0],\n",
       "        ...,\n",
       "        [  5,   0,   0, ...,   1,   0,   0],\n",
       "        [  0,   0,   0, ...,   0,   0,   0],\n",
       "        [  0,   0,   0, ...,   0,   0,   0]],\n",
       "\n",
       "       ...,\n",
       "\n",
       "       [[372,  12,   0, ...,   3,  47,   0],\n",
       "        [  0, 555,   0, ...,   0,   4,   6],\n",
       "        [ 12, 100,   4, ...,  61,  94,   0],\n",
       "        ...,\n",
       "        [  0,   0,   1, ..., 316,  30,   0],\n",
       "        [ 13,  70,   0, ...,  11, 220,   2],\n",
       "        [  0, 361,   0, ...,   1,  24, 116]],\n",
       "\n",
       "       [[298,   6,   1, ...,  26,  49,  15],\n",
       "        [  0, 506,   0, ...,   1,   9,  53],\n",
       "        [ 11,  15,  18, ..., 249,  65,  32],\n",
       "        ...,\n",
       "        [  0,   0,   1, ..., 386,   1,   0],\n",
       "        [  2,   9,   1, ..., 141, 171,  55],\n",
       "        [  0, 287,   0, ...,   7,  21, 226]],\n",
       "\n",
       "       [[325,   4,   0, ...,  12,  39,   2],\n",
       "        [  0, 485,   0, ...,   1,  19,  55],\n",
       "        [ 11,  33,   9, ..., 191,  40,   3],\n",
       "        ...,\n",
       "        [  0,   0,   0, ..., 441,   5,   0],\n",
       "        [  7,  18,   0, ..., 103, 184,   4],\n",
       "        [  0, 285,   0, ...,   7,  50, 143]]])"
      ]
     },
     "execution_count": 84,
     "metadata": {},
     "output_type": "execute_result"
    }
   ],
   "source": [
    "np.load(\"Task2_modelSIMPLE_Conf_Mat.npy\")"
   ]
  },
  {
   "cell_type": "code",
   "execution_count": 83,
   "metadata": {},
   "outputs": [
    {
     "data": {
      "text/plain": [
       "array([[2.30335741, 0.103     , 2.30238074, 0.09277778],\n",
       "       [2.30103965, 0.099     , 2.29979501, 0.09351852],\n",
       "       [2.29820777, 0.1       , 2.29642111, 0.09333333],\n",
       "       [2.29366222, 0.097     , 2.29153931, 0.1037037 ],\n",
       "       [2.28909089, 0.104     , 2.2843494 , 0.15018519],\n",
       "       [2.28153196, 0.13      , 2.27260481, 0.1662963 ],\n",
       "       [2.26664932, 0.166     , 2.25278941, 0.15333333],\n",
       "       [2.24648814, 0.149     , 2.22125674, 0.14      ],\n",
       "       [2.20586602, 0.15      , 2.18389103, 0.12981481],\n",
       "       [2.18210946, 0.14      , 2.16569828, 0.125     ],\n",
       "       [2.17592884, 0.146     , 2.14678505, 0.13148148],\n",
       "       [2.15466552, 0.139     , 2.1370266 , 0.13407407],\n",
       "       [2.15251319, 0.14      , 2.12810545, 0.13537037],\n",
       "       [2.14976921, 0.146     , 2.12183086, 0.13796296],\n",
       "       [2.14311036, 0.159     , 2.1157121 , 0.13925926],\n",
       "       [2.12809726, 0.161     , 2.10983099, 0.14148148],\n",
       "       [2.12582604, 0.193     , 2.1044453 , 0.14185185],\n",
       "       [2.12421885, 0.186     , 2.0981411 , 0.16018519],\n",
       "       [2.13031129, 0.176     , 2.09443158, 0.23648148],\n",
       "       [2.11220588, 0.206     , 2.08941229, 0.23388889],\n",
       "       [2.11052057, 0.214     , 2.08019896, 0.25185185],\n",
       "       [2.10041906, 0.204     , 2.06856385, 0.21166667],\n",
       "       [2.07510882, 0.234     , 2.05395094, 0.21351852],\n",
       "       [2.07563348, 0.216     , 2.03263179, 0.22055556],\n",
       "       [2.0534951 , 0.219     , 2.00244853, 0.22148148],\n",
       "       [2.03147175, 0.213     , 1.96464898, 0.22203704],\n",
       "       [1.99584846, 0.227     , 1.93694526, 0.24166667],\n",
       "       [1.97379794, 0.21      , 1.91556352, 0.24277778],\n",
       "       [1.9569757 , 0.252     , 1.89902564, 0.24092593],\n",
       "       [1.93158055, 0.259     , 1.87517974, 0.27685185],\n",
       "       [1.93231155, 0.238     , 1.85907988, 0.27277778],\n",
       "       [1.90270206, 0.262     , 1.84237452, 0.30166667],\n",
       "       [1.89088672, 0.26      , 1.82152343, 0.30148148],\n",
       "       [1.8677202 , 0.279     , 1.80040164, 0.31425926],\n",
       "       [1.8343687 , 0.279     , 1.79458744, 0.31388889],\n",
       "       [1.81126581, 0.298     , 1.75547099, 0.32833333],\n",
       "       [1.8198213 , 0.303     , 1.76398997, 0.31833333],\n",
       "       [1.81302629, 0.295     , 1.72752891, 0.39592593],\n",
       "       [1.79225885, 0.307     , 1.7133697 , 0.36777778],\n",
       "       [1.75092261, 0.331     , 1.69840391, 0.34444444],\n",
       "       [1.75349171, 0.333     , 1.67086466, 0.36240741],\n",
       "       [1.7124031 , 0.334     , 1.6464888 , 0.37185185],\n",
       "       [1.70752598, 0.357     , 1.67407847, 0.395     ],\n",
       "       [1.69848661, 0.349     , 1.62494086, 0.38740741],\n",
       "       [1.69425311, 0.333     , 1.63357441, 0.40074074],\n",
       "       [1.67465238, 0.367     , 1.57613345, 0.4037037 ],\n",
       "       [1.6516707 , 0.366     , 1.59077331, 0.42388889],\n",
       "       [1.64143009, 0.37      , 1.59269399, 0.42907407],\n",
       "       [1.64923691, 0.36      , 1.54177463, 0.41      ],\n",
       "       [1.60165853, 0.382     , 1.53281491, 0.41240741],\n",
       "       [1.59035707, 0.381     , 1.55123573, 0.425     ],\n",
       "       [1.6030047 , 0.382     , 1.51074312, 0.41648148],\n",
       "       [1.59595977, 0.406     , 1.49999626, 0.42740741],\n",
       "       [1.58167125, 0.385     , 1.47706835, 0.44203704],\n",
       "       [1.54359459, 0.406     , 1.49690999, 0.43740741],\n",
       "       [1.54438173, 0.41      , 1.47622381, 0.4362963 ],\n",
       "       [1.51085089, 0.426     , 1.44885398, 0.44833333],\n",
       "       [1.56910216, 0.407     , 1.45936513, 0.46777778],\n",
       "       [1.63603843, 0.386     , 1.49739787, 0.44259259],\n",
       "       [1.55254   , 0.398     , 1.53345919, 0.42611111],\n",
       "       [1.53342543, 0.426     , 1.44284019, 0.46574074],\n",
       "       [1.4795869 , 0.436     , 1.45805466, 0.48481481],\n",
       "       [1.51603169, 0.42      , 1.46311354, 0.46111111],\n",
       "       [1.4688695 , 0.439     , 1.39254376, 0.48055556],\n",
       "       [1.46798179, 0.453     , 1.39227175, 0.48592593],\n",
       "       [1.43708674, 0.454     , 1.3826397 , 0.48388889],\n",
       "       [1.48851198, 0.444     , 1.40325042, 0.48518519],\n",
       "       [1.49238843, 0.443     , 1.45260708, 0.45222222]])"
      ]
     },
     "execution_count": 83,
     "metadata": {},
     "output_type": "execute_result"
    }
   ],
   "source": [
    "np.load(\"Task2_modelSIMPLE_Loss_Acc.npy\")"
   ]
  },
  {
   "cell_type": "code",
   "execution_count": 81,
   "metadata": {},
   "outputs": [
    {
     "data": {
      "text/plain": [
       "[[0, 0, 0, 0, 0, 0, 0, 0, 0, 0],\n",
       " [0, 0, 1, 0, 0, 0, 0, 0, 0, 0],\n",
       " [0, 0, 0, 0, 0, 0, 0, 0, 0, 0],\n",
       " [0, 0, 0, 0, 0, 0, 0, 0, 0, 0],\n",
       " [0, 0, 0, 0, 0, 0, 0, 0, 0, 0],\n",
       " [0, 0, 0, 0, 0, 0, 0, 0, 0, 0],\n",
       " [0, 0, 0, 0, 0, 0, 0, 0, 0, 0],\n",
       " [0, 0, 0, 0, 0, 0, 0, 0, 0, 0],\n",
       " [0, 0, 0, 0, 0, 0, 0, 0, 0, 0],\n",
       " [0, 0, 0, 0, 0, 0, 0, 0, 0, 0]]"
      ]
     },
     "execution_count": 81,
     "metadata": {},
     "output_type": "execute_result"
    }
   ],
   "source": [
    "conf_mat = [([0]*10) for i in range(10)]\n",
    "conf_mat[1][2]+=1\n",
    "conf_mat"
   ]
  },
  {
   "cell_type": "code",
   "execution_count": 82,
   "metadata": {},
   "outputs": [
    {
     "data": {
      "text/plain": [
       "[[0, 0, 1, 0, 0, 0, 0, 0, 0, 0],\n",
       " [0, 0, 1, 0, 0, 0, 0, 0, 0, 0],\n",
       " [0, 0, 1, 0, 0, 0, 0, 0, 0, 0],\n",
       " [0, 0, 1, 0, 0, 0, 0, 0, 0, 0],\n",
       " [0, 0, 1, 0, 0, 0, 0, 0, 0, 0],\n",
       " [0, 0, 1, 0, 0, 0, 0, 0, 0, 0],\n",
       " [0, 0, 1, 0, 0, 0, 0, 0, 0, 0],\n",
       " [0, 0, 1, 0, 0, 0, 0, 0, 0, 0],\n",
       " [0, 0, 1, 0, 0, 0, 0, 0, 0, 0],\n",
       " [0, 0, 1, 0, 0, 0, 0, 0, 0, 0]]"
      ]
     },
     "execution_count": 82,
     "metadata": {},
     "output_type": "execute_result"
    }
   ],
   "source": [
    "conf_mat = [([0]*10)]*10\n",
    "conf_mat[1][2]+=1\n",
    "conf_mat"
   ]
  },
  {
   "cell_type": "code",
   "execution_count": null,
   "metadata": {},
   "outputs": [],
   "source": []
  },
  {
   "cell_type": "code",
   "execution_count": 1,
   "metadata": {},
   "outputs": [],
   "source": [
    "from torchvision import models\n",
    "import torch.nn as nn\n",
    "import torch.nn.functional as F\n",
    "\n",
    "\n",
    "\n",
    "#----------------------------------------------------------------------------\n",
    "# https://blog.csdn.net/winycg/article/details/86709991\n",
    "\n",
    "# 用于ResNet50,101和152的残差块，用的是1x1+3x3+1x1的卷积\n",
    "class Bottleneck(nn.Module):\n",
    "    # 前面1x1和3x3卷积的filter个数相等，最后1x1卷积是其expansion倍\n",
    "    expansion = 4\n",
    "\n",
    "    def __init__(self, in_planes, planes, stride=1):\n",
    "        super(Bottleneck, self).__init__()\n",
    "        self.conv1 = nn.Conv2d(in_planes, planes, kernel_size=1, bias=False)\n",
    "        self.bn1 = nn.BatchNorm2d(planes)\n",
    "        self.conv2 = nn.Conv2d(planes, planes, kernel_size=3,\n",
    "                               stride=stride, padding=1, bias=False)\n",
    "        self.bn2 = nn.BatchNorm2d(planes)\n",
    "        self.conv3 = nn.Conv2d(planes, self.expansion*planes,\n",
    "                               kernel_size=1, bias=False)\n",
    "        self.bn3 = nn.BatchNorm2d(self.expansion*planes)\n",
    "\n",
    "        self.shortcut = nn.Sequential()\n",
    "        if stride != 1 or in_planes != self.expansion*planes:\n",
    "            self.shortcut = nn.Sequential(\n",
    "                nn.Conv2d(in_planes, self.expansion*planes,\n",
    "                          kernel_size=1, stride=stride, bias=False),\n",
    "                nn.BatchNorm2d(self.expansion*planes)\n",
    "            )\n",
    "\n",
    "    def forward(self, x):\n",
    "        out = F.relu(self.bn1(self.conv1(x)))\n",
    "        out = F.relu(self.bn2(self.conv2(out)))\n",
    "        out = self.bn3(self.conv3(out))\n",
    "        out += self.shortcut(x)\n",
    "        out = F.relu(out)\n",
    "        return out\n",
    "\n",
    "\n",
    "class ResNet(nn.Module):\n",
    "    def __init__(self, block, num_blocks, num_classes=10):\n",
    "        super(ResNet, self).__init__()\n",
    "        self.in_planes = 64\n",
    "\n",
    "        self.conv1 = nn.Conv2d(3, 64, kernel_size=3,\n",
    "                               stride=1, padding=1, bias=False)\n",
    "        self.bn1 = nn.BatchNorm2d(64)\n",
    "        \n",
    "        self.layer1 = self._make_layer(block, 64, num_blocks[0], stride=1)\n",
    "        self.layer2 = self._make_layer(block, 128, num_blocks[1], stride=2)\n",
    "        self.layer3 = self._make_layer(block, 256, num_blocks[2], stride=2)\n",
    "        self.layer4 = self._make_layer(block, 512, num_blocks[3], stride=2)\n",
    "        self.linear = nn.Linear(512*block.expansion, num_classes)\n",
    "\n",
    "    def _make_layer(self, block, planes, num_blocks, stride):\n",
    "        strides = [stride] + [1]*(num_blocks-1)\n",
    "        layers = []\n",
    "        for stride in strides:\n",
    "            layers.append(block(self.in_planes, planes, stride))\n",
    "            self.in_planes = planes * block.expansion\n",
    "        return nn.Sequential(*layers)\n",
    "\n",
    "    def forward(self, x):\n",
    "        out = F.relu(self.bn1(self.conv1(x)))\n",
    "        out = self.layer1(out)\n",
    "        out = self.layer2(out)\n",
    "        out = self.layer3(out)\n",
    "        out = self.layer4(out)\n",
    "        out = F.avg_pool2d(out, 4)\n",
    "        out = out.view(out.size(0), -1)\n",
    "        out = self.linear(out)\n",
    "        return out\n",
    "\n",
    "\n",
    "def model_ResNet18():\n",
    "    return ResNet(BasicBlock, [2,2,2,2])\n",
    "def model_ResNet34():\n",
    "    return ResNet(BasicBlock, [3,4,6,3])\n",
    "def model_ResNet50():\n",
    "    return ResNet(Bottleneck, [3,4,6,3])\n",
    "def model_ResNet101():\n",
    "    return ResNet(Bottleneck, [3,4,23,3])\n",
    "def model_ResNet152():\n",
    "    return ResNet(Bottleneck, [3,8,36,3])\n",
    "\n",
    "#------------------------------------------------------------------------------\n",
    "# https://zhuanlan.zhihu.com/p/149387262\n",
    "\n",
    "def model_another_ResNet50(num_classes):\n",
    "    class ConvBlock(nn.Module):\n",
    "        def __init__(self, in_channel, f, filters, s):\n",
    "            super(ConvBlock,self).__init__()\n",
    "            F1, F2, F3 = filters\n",
    "            self.stage = nn.Sequential(\n",
    "                nn.Conv2d(in_channel,F1,1,stride=s, padding=0, bias=False),\n",
    "                nn.BatchNorm2d(F1),\n",
    "                nn.ReLU(True),\n",
    "                nn.Conv2d(F1,F2,f,stride=1, padding=True, bias=False),\n",
    "                nn.BatchNorm2d(F2),\n",
    "                nn.ReLU(True),\n",
    "                nn.Conv2d(F2,F3,1,stride=1, padding=0, bias=False),\n",
    "                nn.BatchNorm2d(F3),\n",
    "            )\n",
    "            self.shortcut_1 = nn.Conv2d(in_channel, F3, 1, stride=s, padding=0, bias=False)\n",
    "            self.batch_1 = nn.BatchNorm2d(F3)\n",
    "            self.relu_1 = nn.ReLU(True)\n",
    "\n",
    "        def forward(self, X):\n",
    "            X_shortcut = self.shortcut_1(X)\n",
    "            X_shortcut = self.batch_1(X_shortcut)\n",
    "            X = self.stage(X)\n",
    "            X = X + X_shortcut\n",
    "            X = self.relu_1(X)\n",
    "            return X    \n",
    "\n",
    "    class IndentityBlock(nn.Module):\n",
    "        def __init__(self, in_channel, f, filters):\n",
    "            super(IndentityBlock,self).__init__()\n",
    "            F1, F2, F3 = filters\n",
    "            self.stage = nn.Sequential(\n",
    "                nn.Conv2d(in_channel,F1,1,stride=1, padding=0, bias=False),\n",
    "                nn.BatchNorm2d(F1),\n",
    "                nn.ReLU(True),\n",
    "                nn.Conv2d(F1,F2,f,stride=1, padding=True, bias=False),\n",
    "                nn.BatchNorm2d(F2),\n",
    "                nn.ReLU(True),\n",
    "                nn.Conv2d(F2,F3,1,stride=1, padding=0, bias=False),\n",
    "                nn.BatchNorm2d(F3),\n",
    "            )\n",
    "            self.relu_1 = nn.ReLU(True)\n",
    "\n",
    "        def forward(self, X):\n",
    "            X_shortcut = X\n",
    "            X = self.stage(X)\n",
    "            X = X + X_shortcut\n",
    "            X = self.relu_1(X)\n",
    "            return X\n",
    "\n",
    "    class ResModel(nn.Module):\n",
    "        def __init__(self, n_class):\n",
    "            super(ResModel,self).__init__()\n",
    "            self.stage1 = nn.Sequential(\n",
    "                nn.Conv2d(3,64,7,stride=2, padding=3, bias=False),\n",
    "                nn.BatchNorm2d(64),\n",
    "                nn.ReLU(True),\n",
    "                nn.MaxPool2d(3,2,padding=1),\n",
    "            )\n",
    "            self.stage2 = nn.Sequential(\n",
    "                ConvBlock(64, f=3, filters=[64, 64, 256], s=1),\n",
    "                IndentityBlock(256, 3, [64, 64, 256]),\n",
    "                IndentityBlock(256, 3, [64, 64, 256]),\n",
    "            )\n",
    "            self.stage3 = nn.Sequential(\n",
    "                ConvBlock(256, f=3, filters=[128, 128, 512], s=2),\n",
    "                IndentityBlock(512, 3, [128, 128, 512]),\n",
    "                IndentityBlock(512, 3, [128, 128, 512]),\n",
    "                IndentityBlock(512, 3, [128, 128, 512]),\n",
    "            )\n",
    "            self.stage4 = nn.Sequential(\n",
    "                ConvBlock(512, f=3, filters=[256, 256, 1024], s=2),\n",
    "                IndentityBlock(1024, 3, [256, 256, 1024]),\n",
    "                IndentityBlock(1024, 3, [256, 256, 1024]),\n",
    "                IndentityBlock(1024, 3, [256, 256, 1024]),\n",
    "                IndentityBlock(1024, 3, [256, 256, 1024]),\n",
    "                IndentityBlock(1024, 3, [256, 256, 1024]),\n",
    "            )\n",
    "            self.stage5 = nn.Sequential(\n",
    "                ConvBlock(1024, f=3, filters=[512, 512, 2048], s=2),\n",
    "                IndentityBlock(2048, 3, [512, 512, 2048]),\n",
    "                IndentityBlock(2048, 3, [512, 512, 2048]),\n",
    "            )\n",
    "            self.pool = nn.AvgPool2d(2,2,padding=1)\n",
    "            self.fc = nn.Sequential(\n",
    "                nn.Linear(8192,n_class)\n",
    "            )\n",
    "\n",
    "        def forward(self, X):\n",
    "            out = self.stage1(X)\n",
    "            out = self.stage2(out)\n",
    "            out = self.stage3(out)\n",
    "            out = self.stage4(out)\n",
    "            out = self.stage5(out)\n",
    "            out = self.pool(out)\n",
    "            out = out.view(out.size(0),-1)\n",
    "            out = self.fc(out)\n",
    "            return out\n",
    "\n",
    "    model_resnet = ResModel(num_classes)\n",
    "    return model_resnet\n",
    "\n",
    "\n",
    "#-----------------------------------------------------------------------------\n",
    "\n",
    "\n",
    "\n",
    "def model_A(num_classes):\n",
    "    model_resnet = models.resnet50(pretrained=False)\n",
    "    num_features = model_resnet.fc.in_features\n",
    "    model_resnet.fc = nn.Linear(num_features, num_classes)\n",
    "    return model_resnet\n",
    "\n",
    "def model_B(num_classes):\n",
    "    ## your code here\n",
    "    pass\n",
    "\n",
    "\n",
    "def model_C(num_classes):\n",
    "    ## your code here\n",
    "    pass\n",
    "\n",
    "def model_Myhighway(num_classes):\n",
    "    class res_block(nn.Module):\n",
    "        def __init__(self, in_channel, filters):\n",
    "            super(IndentityBlock,self).__init__()\n",
    "            F1, F2, F3 = filters\n",
    "            self.stage = nn.Sequential(\n",
    "                nn.Conv2d(in_channel, F1, 1, stride=1, padding=0, bias=False),\n",
    "                nn.BatchNorm2d(F1),\n",
    "                nn.ReLU(True),\n",
    "                nn.Conv2d(F1, F2, 3, stride=1, padding=1, bias=False),\n",
    "                nn.BatchNorm2d(F2),\n",
    "                nn.ReLU(True),\n",
    "                nn.Conv2d(F2, F3, 1, stride=1, padding=0, bias=False),\n",
    "                nn.BatchNorm2d(F3),\n",
    "            )\n",
    "            self.relu_1 = nn.ReLU(True)\n",
    "\n",
    "        def forward(self, X):\n",
    "            X_shortcut = X\n",
    "            X = self.stage(X)\n",
    "            X = X + X_shortcut\n",
    "            X = self.relu_1(X)\n",
    "            return X\n",
    "    \n",
    "    class Myhighway(nn.Module):\n",
    "        def __init__(self):\n",
    "            super(ResModel,self).__init__()\n",
    "            self.stage1 = nn.Sequential(\n",
    "                nn.Conv2d(3, 32, 7, stride=1, padding=3),\n",
    "                nn.MaxPool2d(kernel_size=2, stride=2),\n",
    "                nn.BatchNorm2d(32), nn.ReLU(True),\n",
    "                res_block(32, [16, 16, 32]),\n",
    "            )\n",
    "            self.stage2 = nn.Sequential(\n",
    "                nn.Conv2d(32, 64, 5, stride=1, padding=2),\n",
    "                nn.MaxPool2d(kernel_size=2, stride=2),\n",
    "                nn.BatchNorm2d(64), nn.ReLU(True),\n",
    "                res_block(64, [32, 32, 64]),\n",
    "                res_block(64, [32, 32, 64]),\n",
    "            )\n",
    "            self.stage3 = nn.Sequential(\n",
    "                nn.Conv2d(64, 128, 5, stride=1, padding=2),\n",
    "                nn.MaxPool2d(kernel_size=2, stride=2),\n",
    "                nn.BatchNorm2d(128), nn.ReLU(True),\n",
    "                res_block(128, [64, 64, 128]),\n",
    "                res_block(128, [64, 64, 128]),\n",
    "            )\n",
    "            self.stage4 = nn.Sequential(\n",
    "                nn.Conv2d(128, 256, 5, stride=1, padding=2),\n",
    "                nn.MaxPool2d(kernel_size=2, stride=2),\n",
    "                nn.BatchNorm2d(128), nn.ReLU(True),\n",
    "                res_block(256, [64, 64, 256]),\n",
    "                res_block(256, [64, 64, 256]),\n",
    "                res_block(256, [64, 64, 256]),\n",
    "            )\n",
    "            self.stage5 = nn.Sequential(\n",
    "                nn.Conv2d(256, 512, 5, stride=1, padding=2),\n",
    "                nn.MaxPool2d(kernel_size=2, stride=2),\n",
    "                nn.BatchNorm2d(128), nn.ReLU(True),\n",
    "                res_block(512, [64, 64, 512]),\n",
    "                nn.Conv2d(512, 1024, 1),\n",
    "                nn.AvgPool2d(kernel_size=3, stride=3,padding=1),\n",
    "            )\n",
    "            self.fc1 = nn.Sequential(\n",
    "                nn.Linear(4096,200),\n",
    "            )\n",
    "            self.fc2 = nn.Sequential(\n",
    "                nn.Linear(200,10),\n",
    "            )\n",
    "\n",
    "        def forward(self, X):\n",
    "            out = self.stage1(X)\n",
    "            out = self.stage2(out)\n",
    "            out = self.stage3(out)\n",
    "            out = self.stage4(out)\n",
    "            out = self.stage5(out)\n",
    "            out = out.view(out.size(0),-1)\n",
    "            out = self.fc1(out)\n",
    "            out = self.fc2(out)\n",
    "            return out\n",
    "\n",
    "    model = Myhighway()\n",
    "    return model\n",
    "    \n",
    "\n",
    "def model_SIMPLE(num_classes):\n",
    "    class Net(nn.Module):\n",
    "        def __init__(self):\n",
    "            super(Net,self).__init__()   #size=(3*224*224)\n",
    "            self.conv1 = nn.Sequential(   \n",
    "                nn.Conv2d( in_channels= 3, out_channels= 20, kernel_size =5, stride = 1, padding = 2),\n",
    "                nn.ReLU()\n",
    "            )\n",
    "            self.conv2 = nn.Sequential(   \n",
    "                nn.Conv2d( in_channels= 20, out_channels= 30, kernel_size =5, stride = 1, padding = 2 ),\n",
    "                nn.ReLU(),\n",
    "                nn.MaxPool2d(kernel_size=7, stride=7), #size=(30*32*32)\n",
    "            )\n",
    "            self.conv3=nn.Sequential(  \n",
    "                nn.Conv2d( in_channels= 30, out_channels= 40, kernel_size =5, stride = 1, padding = 2 ),\n",
    "                nn.ReLU(),\n",
    "                nn.MaxPool2d(kernel_size=4, stride=4), #size=(40*8*8)\n",
    "            )\n",
    "            self.fc1 = nn.Sequential(\n",
    "                nn.Linear(40 * 8 * 8, 300),\n",
    "                nn.ReLU()\n",
    "            )\n",
    "            self.fc2 = nn.Sequential(\n",
    "                nn.Linear(300, 10),\n",
    "            )\n",
    "            self.dropout = nn.Dropout(p=0.5)\n",
    "            \n",
    "        def forward(self,x):\n",
    "            x = self.conv1(x)\n",
    "            x = self.conv2(x)\n",
    "            x = self.conv3(x)\n",
    "            x = x.view(x.size(0), -1)\n",
    "            x = self.fc1(x)\n",
    "            x = self.dropout(x)\n",
    "            x = self.fc2(x)\n",
    "            return x\n",
    "    model=Net()\n",
    "    return model\n"
   ]
  },
  {
   "cell_type": "code",
   "execution_count": null,
   "metadata": {},
   "outputs": [],
   "source": []
  },
  {
   "cell_type": "code",
   "execution_count": null,
   "metadata": {},
   "outputs": [],
   "source": []
  },
  {
   "cell_type": "code",
   "execution_count": 1,
   "metadata": {},
   "outputs": [
    {
     "ename": "NameError",
     "evalue": "name 'X' is not defined",
     "output_type": "error",
     "traceback": [
      "\u001b[0;31m---------------------------------------------------------------------------\u001b[0m",
      "\u001b[0;31mNameError\u001b[0m                                 Traceback (most recent call last)",
      "\u001b[0;32m<ipython-input-1-0603c8eb9d93>\u001b[0m in \u001b[0;36m<module>\u001b[0;34m\u001b[0m\n\u001b[1;32m      1\u001b[0m \u001b[0;32mfrom\u001b[0m \u001b[0msklearn\u001b[0m\u001b[0;34m.\u001b[0m\u001b[0mmanifold\u001b[0m \u001b[0;32mimport\u001b[0m \u001b[0mTSNE\u001b[0m\u001b[0;34m\u001b[0m\u001b[0;34m\u001b[0m\u001b[0m\n\u001b[1;32m      2\u001b[0m \u001b[0mtsne\u001b[0m \u001b[0;34m=\u001b[0m \u001b[0mTSNE\u001b[0m\u001b[0;34m(\u001b[0m\u001b[0;34m)\u001b[0m\u001b[0;34m\u001b[0m\u001b[0;34m\u001b[0m\u001b[0m\n\u001b[0;32m----> 3\u001b[0;31m \u001b[0mX_embedded\u001b[0m \u001b[0;34m=\u001b[0m \u001b[0mtsne\u001b[0m\u001b[0;34m.\u001b[0m\u001b[0mfit_transform\u001b[0m\u001b[0;34m(\u001b[0m\u001b[0mX\u001b[0m\u001b[0;34m)\u001b[0m\u001b[0;34m\u001b[0m\u001b[0;34m\u001b[0m\u001b[0m\n\u001b[0m",
      "\u001b[0;31mNameError\u001b[0m: name 'X' is not defined"
     ]
    }
   ],
   "source": [
    "from sklearn.manifold import TSNE\n",
    "tsne = TSNE()"
   ]
  },
  {
   "cell_type": "code",
   "execution_count": 5,
   "metadata": {},
   "outputs": [],
   "source": [
    "X = [[1,2,3,4],[5,6,7,8],[1,1,1,1],[2,2,2,2]]\n",
    "X_embedded = tsne.fit_transform(X)"
   ]
  },
  {
   "cell_type": "code",
   "execution_count": 19,
   "metadata": {},
   "outputs": [
    {
     "data": {
      "text/plain": [
       "(array([[ -15.411722,   16.69604 ],\n",
       "        [  33.961246, -174.9399  ],\n",
       "        [-207.0492  ,  -32.670723],\n",
       "        [-157.67628 , -224.3067  ]], dtype=float32),\n",
       " -15.411722)"
      ]
     },
     "execution_count": 19,
     "metadata": {},
     "output_type": "execute_result"
    }
   ],
   "source": [
    "X_embedded, X_embedded[0][0]"
   ]
  },
  {
   "cell_type": "code",
   "execution_count": 17,
   "metadata": {},
   "outputs": [
    {
     "data": {
      "image/png": "[encoded data removed]",
      "text/plain": [
       "<Figure size 432x288 with 1 Axes>"
      ]
     },
     "metadata": {
      "needs_background": "light"
     },
     "output_type": "display_data"
    }
   ],
   "source": [
    "colors = ['#FAFA00','#CCFF00','#99CCFF','#CCDD33','#FF9966',\n",
    "          '#FF33FF','#000099','#FF3333','#33FFFF','#990033']\n",
    "import matplotlib.pyplot as plt\n",
    "# plt.scatter(2, 4, c=colors[0])\n",
    "# plt.scatter(4, 8, c=colors[1])\n",
    "for i in range(len(colors)):\n",
    "    plt.scatter(i,i,c=colors[i])\n",
    "plt.show()"
   ]
  },
  {
   "cell_type": "code",
   "execution_count": null,
   "metadata": {},
   "outputs": [],
   "source": []
  },
  {
   "cell_type": "code",
   "execution_count": 22,
   "metadata": {},
   "outputs": [
    {
     "ename": "ModuleNotFoundError",
     "evalue": "No module named 'pyecharts'",
     "output_type": "error",
     "traceback": [
      "\u001b[0;31m---------------------------------------------------------------------------\u001b[0m",
      "\u001b[0;31mModuleNotFoundError\u001b[0m                       Traceback (most recent call last)",
      "\u001b[0;32m<ipython-input-22-4e9b1405c8f4>\u001b[0m in \u001b[0;36m<module>\u001b[0;34m\u001b[0m\n\u001b[1;32m      1\u001b[0m \u001b[0;32mimport\u001b[0m \u001b[0mrandom\u001b[0m\u001b[0;34m\u001b[0m\u001b[0;34m\u001b[0m\u001b[0m\n\u001b[0;32m----> 2\u001b[0;31m \u001b[0;32mfrom\u001b[0m \u001b[0mpyecharts\u001b[0m \u001b[0;32mimport\u001b[0m \u001b[0mHeatMap\u001b[0m\u001b[0;34m\u001b[0m\u001b[0;34m\u001b[0m\u001b[0m\n\u001b[0m\u001b[1;32m      3\u001b[0m \u001b[0;34m\u001b[0m\u001b[0m\n\u001b[1;32m      4\u001b[0m x_axis = [\n\u001b[1;32m      5\u001b[0m     \u001b[0;34m\"12a\"\u001b[0m\u001b[0;34m,\u001b[0m \u001b[0;34m\"1a\"\u001b[0m\u001b[0;34m,\u001b[0m \u001b[0;34m\"2a\"\u001b[0m\u001b[0;34m,\u001b[0m \u001b[0;34m\"3a\"\u001b[0m\u001b[0;34m,\u001b[0m \u001b[0;34m\"4a\"\u001b[0m\u001b[0;34m,\u001b[0m \u001b[0;34m\"5a\"\u001b[0m\u001b[0;34m,\u001b[0m \u001b[0;34m\"6a\"\u001b[0m\u001b[0;34m,\u001b[0m \u001b[0;34m\"7a\"\u001b[0m\u001b[0;34m,\u001b[0m \u001b[0;34m\"8a\"\u001b[0m\u001b[0;34m,\u001b[0m \u001b[0;34m\"9a\"\u001b[0m\u001b[0;34m,\u001b[0m \u001b[0;34m\"10a\"\u001b[0m\u001b[0;34m,\u001b[0m \u001b[0;34m\"11a\"\u001b[0m\u001b[0;34m,\u001b[0m\u001b[0;34m\u001b[0m\u001b[0;34m\u001b[0m\u001b[0m\n",
      "\u001b[0;31mModuleNotFoundError\u001b[0m: No module named 'pyecharts'"
     ]
    }
   ],
   "source": []
  },
  {
   "cell_type": "code",
   "execution_count": null,
   "metadata": {},
   "outputs": [],
   "source": []
  },
  {
   "cell_type": "code",
   "execution_count": 49,
   "metadata": {},
   "outputs": [],
   "source": [
    "import torch\n",
    "from torch.utils.data import TensorDataset, DataLoader\n",
    "import numpy as np\n",
    "\n",
    "a = []\n",
    "b = []\n",
    "for i in range(20):\n",
    "    a.append([i,233])\n",
    "    b.append(i)\n",
    "a = torch.tensor(a)\n",
    "b = torch.tensor(b)\n",
    "\n",
    "S = TensorDataset(a,b)\n",
    "A = DataLoader(S, batch_size=3, shuffle=True)"
   ]
  },
  {
   "cell_type": "code",
   "execution_count": 36,
   "metadata": {},
   "outputs": [
    {
     "data": {
      "text/plain": [
       "<torch.utils.data.dataloader.DataLoader at 0x7f6400ae3810>"
      ]
     },
     "execution_count": 36,
     "metadata": {},
     "output_type": "execute_result"
    }
   ],
   "source": [
    "A"
   ]
  },
  {
   "cell_type": "code",
   "execution_count": 47,
   "metadata": {},
   "outputs": [
    {
     "name": "stdout",
     "output_type": "stream",
     "text": [
      "tensor([[ 17, 233],\n",
      "        [  9, 233],\n",
      "        [  4, 233]]) tensor([17,  9,  4])\n",
      "tensor([[  3, 233],\n",
      "        [  1, 233],\n",
      "        [  8, 233]]) tensor([3, 1, 8])\n",
      "tensor([[  7, 233],\n",
      "        [ 19, 233],\n",
      "        [  2, 233]]) tensor([ 7, 19,  2])\n",
      "tensor([[ 13, 233],\n",
      "        [ 10, 233],\n",
      "        [  0, 233]]) tensor([13, 10,  0])\n",
      "tensor([[ 18, 233],\n",
      "        [  5, 233],\n",
      "        [ 12, 233]]) tensor([18,  5, 12])\n",
      "tensor([[ 15, 233],\n",
      "        [ 11, 233],\n",
      "        [  6, 233]]) tensor([15, 11,  6])\n",
      "tensor([[ 16, 233],\n",
      "        [ 14, 233]]) tensor([16, 14])\n"
     ]
    }
   ],
   "source": [
    "for x,y in A:\n",
    "    print(x,y)"
   ]
  },
  {
   "cell_type": "code",
   "execution_count": null,
   "metadata": {},
   "outputs": [],
   "source": []
  },
  {
   "cell_type": "code",
   "execution_count": 72,
   "metadata": {},
   "outputs": [],
   "source": [
    "a = []\n",
    "b = torch.tensor([[1,2],[3,4],[5,6]])\n"
   ]
  },
  {
   "cell_type": "code",
   "execution_count": 75,
   "metadata": {},
   "outputs": [],
   "source": [
    "fuck = b.clone().detach().numpy().tolist().copy()\n",
    "a.append(fuck)"
   ]
  },
  {
   "cell_type": "code",
   "execution_count": 76,
   "metadata": {},
   "outputs": [
    {
     "data": {
      "text/plain": [
       "[[[1, 2], [3, 4], [5, 6]], [[1, 2], [3, 4], [5, 6]]]"
      ]
     },
     "execution_count": 76,
     "metadata": {},
     "output_type": "execute_result"
    }
   ],
   "source": [
    "a"
   ]
  },
  {
   "cell_type": "code",
   "execution_count": 78,
   "metadata": {},
   "outputs": [
    {
     "data": {
      "text/plain": [
       "torch.Size([2, 3, 2])"
      ]
     },
     "execution_count": 78,
     "metadata": {},
     "output_type": "execute_result"
    }
   ],
   "source": [
    "torch.tensor(a).shape"
   ]
  },
  {
   "cell_type": "code",
   "execution_count": null,
   "metadata": {},
   "outputs": [],
   "source": []
  },
  {
   "cell_type": "code",
   "execution_count": null,
   "metadata": {},
   "outputs": [],
   "source": []
  },
  {
   "cell_type": "code",
   "execution_count": 3,
   "metadata": {},
   "outputs": [],
   "source": [
    "import numpy as np\n",
    "\n",
    "ID=np.load('ID.npy')"
   ]
  },
  {
   "cell_type": "code",
   "execution_count": 4,
   "metadata": {},
   "outputs": [
    {
     "data": {
      "text/plain": [
       "(76,\n",
       " array([[ 0,  0],\n",
       "        [ 0,  1],\n",
       "        [ 0,  2],\n",
       "        [ 0,  3],\n",
       "        [ 0,  4],\n",
       "        [ 0,  5],\n",
       "        [ 0,  6],\n",
       "        [ 0,  7],\n",
       "        [ 0,  8],\n",
       "        [ 0,  9],\n",
       "        [ 0, 10],\n",
       "        [ 0, 11],\n",
       "        [ 0, 12],\n",
       "        [ 0, 13],\n",
       "        [ 0, 14],\n",
       "        [ 0, 15],\n",
       "        [ 0, 17],\n",
       "        [ 0, 18],\n",
       "        [ 0, 19],\n",
       "        [ 0, 20],\n",
       "        [ 0, 21],\n",
       "        [ 0, 22],\n",
       "        [ 0, 23],\n",
       "        [ 0, 24],\n",
       "        [ 0, 25],\n",
       "        [ 0, 27],\n",
       "        [ 0, 29],\n",
       "        [ 0, 31],\n",
       "        [ 0, 33],\n",
       "        [ 0, 34],\n",
       "        [ 0, 36],\n",
       "        [ 0, 37],\n",
       "        [ 0, 38],\n",
       "        [ 0, 39],\n",
       "        [ 0, 41],\n",
       "        [ 0, 42],\n",
       "        [ 0, 43],\n",
       "        [ 0, 44],\n",
       "        [ 0, 45],\n",
       "        [ 0, 46],\n",
       "        [ 0, 49],\n",
       "        [ 0, 50],\n",
       "        [ 0, 51],\n",
       "        [ 0, 52],\n",
       "        [ 0, 54],\n",
       "        [ 0, 57],\n",
       "        [ 0, 59],\n",
       "        [ 0, 61],\n",
       "        [ 0, 62],\n",
       "        [ 0, 63],\n",
       "        [ 0, 64],\n",
       "        [ 0, 68],\n",
       "        [ 0, 69],\n",
       "        [ 0, 70],\n",
       "        [ 0, 72],\n",
       "        [ 0, 73],\n",
       "        [ 0, 74],\n",
       "        [ 0, 75],\n",
       "        [ 0, 77],\n",
       "        [ 0, 78],\n",
       "        [ 0, 79],\n",
       "        [ 0, 80],\n",
       "        [ 0, 81],\n",
       "        [ 0, 82],\n",
       "        [ 0, 83],\n",
       "        [ 0, 84],\n",
       "        [ 0, 87],\n",
       "        [ 0, 88],\n",
       "        [ 0, 91],\n",
       "        [ 0, 92],\n",
       "        [ 0, 93],\n",
       "        [ 0, 94],\n",
       "        [ 0, 95],\n",
       "        [ 0, 96],\n",
       "        [ 0, 98],\n",
       "        [ 0, 99]]))"
      ]
     },
     "execution_count": 4,
     "metadata": {},
     "output_type": "execute_result"
    }
   ],
   "source": [
    "len(ID),ID"
   ]
  },
  {
   "cell_type": "code",
   "execution_count": 5,
   "metadata": {},
   "outputs": [
    {
     "data": {
      "text/plain": [
       "(5032,\n",
       " array([[   0,    4],\n",
       "        [   0,   16],\n",
       "        [   0,   26],\n",
       "        ...,\n",
       "        [   9, 2360],\n",
       "        [   9, 2367],\n",
       "        [   9, 2368]]))"
      ]
     },
     "execution_count": 5,
     "metadata": {},
     "output_type": "execute_result"
    }
   ],
   "source": [
    "ID=np.load('ID.npy')\n",
    "len(ID),ID"
   ]
  },
  {
   "cell_type": "code",
   "execution_count": null,
   "metadata": {},
   "outputs": [],
   "source": []
  }
 ],
 "metadata": {
  "kernelspec": {
   "display_name": "Python 3",
   "language": "python",
   "name": "python3"
  },
  "language_info": {
   "codemirror_mode": {
    "name": "ipython",
    "version": 3
   },
   "file_extension": ".py",
   "mimetype": "text/x-python",
   "name": "python",
   "nbconvert_exporter": "python",
   "pygments_lexer": "ipython3",
   "version": "3.7.6"
  }
 },
 "nbformat": 4,
 "nbformat_minor": 4
}
